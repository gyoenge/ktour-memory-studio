{
 "cells": [
  {
   "cell_type": "markdown",
   "id": "b7b1b86a",
   "metadata": {},
   "source": [
    "## text inversion"
   ]
  },
  {
   "cell_type": "code",
   "execution_count": null,
   "id": "7fe8da0e",
   "metadata": {},
   "outputs": [],
   "source": [
    "!accelerate launch textual_inversion.py \\\n",
    "  --pretrained_model_name_or_path=\"stabilityai/stable-diffusion-2-1\" \\\n",
    "  --train_data_dir=\"./minhwa_dataset/jpg/\" \\\n",
    "  --learnable_property=\"style\" \\\n",
    "  --placeholder_token=\"<minhwa-style>\" \\\n",
    "  --initializer_token=\"painting\" \\\n",
    "  --resolution=512 \\\n",
    "  --train_batch_size=1 \\\n",
    "  --gradient_accumulation_steps=4 \\\n",
    "  --max_train_steps=3000 \\\n",
    "  --learning_rate=5.0e-04 \\\n",
    "  --scale_lr \\\n",
    "  --lr_scheduler=\"constant\" \\\n",
    "  --lr_warmup_steps=0 \\\n",
    "  --output_dir=\"minhwa_textual_inversion\""
   ]
  },
  {
   "cell_type": "markdown",
   "id": "1ee89613",
   "metadata": {},
   "source": [
    "## lora"
   ]
  },
  {
   "cell_type": "code",
   "execution_count": null,
   "id": "c5c47f61",
   "metadata": {},
   "outputs": [],
   "source": [
    "import os\n",
    "import json\n",
    "\n",
    "json_dir = '../json/' # json 파일이 있는 경로\n",
    "img_dir = './'       # jpg 파일이 있는 현재 경로\n",
    "output_file = os.path.join(img_dir, 'metadata.jsonl')\n",
    "\n",
    "with open(output_file, 'w', encoding='utf-8') as outfile:\n",
    "    for json_filename in os.listdir(json_dir):\n",
    "        if json_filename.endswith('.json'):\n",
    "            json_path = os.path.join(json_dir, json_filename)\n",
    "            \n",
    "            with open(json_path, 'r', encoding='utf-8') as infile:\n",
    "                data = json.load(infile)\n",
    "                \n",
    "                image_filename = data['images']['identifier']\n",
    "\n",
    "                # --- [핵심 수정 부분] ---\n",
    "                # 실제 이미지 파일의 전체 경로 생성\n",
    "                image_filepath = os.path.join(img_dir, image_filename)\n",
    "                \n",
    "                # 파일이 실제로 존재하는 경우에만 메타데이터를 생성\n",
    "                if not os.path.exists(image_filepath):\n",
    "                    print(f\"\\n경고: 이미지 파일을 찾을 수 없습니다. 건너뜁니다: {image_filename}\")\n",
    "                    continue # 다음 파일로 넘어감\n",
    "                # --- [수정 끝] ---\n",
    "\n",
    "                caption = data['images']['caption_kr']\n",
    "                \n",
    "                # 최종 프롬프트 구성 (스타일 + 내용)\n",
    "                # 중요: 아래 '언어 문제' 항목을 꼭 읽어보세요!\n",
    "                prompt = f\"minhwa painting style, {caption}\"\n",
    "                \n",
    "                # metadata.jsonl에 쓸 데이터\n",
    "                entry = {\n",
    "                    \"file_name\": image_filename,\n",
    "                    \"text\": prompt\n",
    "                }\n",
    "                \n",
    "                # 파일에 한 줄씩 쓰기\n",
    "                outfile.write(json.dumps(entry, ensure_ascii=False) + '\\n')\n",
    "\n",
    "print(f\"'{output_file}' 생성이 완료되었습니다.\")"
   ]
  },
  {
   "cell_type": "code",
   "execution_count": null,
   "id": "4d611ec1",
   "metadata": {},
   "outputs": [],
   "source": [
    "!accelerate launch train_text_to_image_lora.py \\\n",
    "    --pretrained_model_name_or_path=\"runwayml/stable-diffusion-v1-5\" \\\n",
    "    --dataset_name=\"./minhwa_dataset/jpg/\" \\\n",
    "    --resolution=512 \\\n",
    "    --center_crop \\\n",
    "    --random_flip \\\n",
    "    --train_batch_size=1 \\\n",
    "    --gradient_accumulation_steps=4 \\\n",
    "    --num_train_epochs=10 \\\n",
    "    --learning_rate=1e-04 \\\n",
    "    --lr_scheduler=\"cosine\" \\\n",
    "    --lr_warmup_steps=0 \\\n",
    "    --output_dir=\"minhwa_lora_model\" \\\n",
    "    --rank=16 \\\n",
    "    --mixed_precision=\"no\""
   ]
  },
  {
   "cell_type": "code",
   "execution_count": 4,
   "id": "69b192a9",
   "metadata": {},
   "outputs": [
    {
     "name": "stdout",
     "output_type": "stream",
     "text": [
      "총 650개의 json 파일에 대한 번역 및 전처리를 시작합니다.\n"
     ]
    },
    {
     "name": "stderr",
     "output_type": "stream",
     "text": [
      "Processing files:   1%|          | 4/650 [00:07<22:12,  2.06s/it]"
     ]
    },
    {
     "name": "stdout",
     "output_type": "stream",
     "text": [
      "\n",
      "경고: 이미지 파일을 찾을 수 없습니다. 건너뜁니다: 김민회_산수도_수지7(활엽수).jpg\n"
     ]
    },
    {
     "name": "stderr",
     "output_type": "stream",
     "text": [
      "Processing files:   8%|▊         | 55/650 [01:29<13:34,  1.37s/it]"
     ]
    },
    {
     "name": "stdout",
     "output_type": "stream",
     "text": [
      "\n",
      "경고: 이미지 파일을 찾을 수 없습니다. 건너뜁니다: 김채현_산수도_수지26(침엽수).jpg\n"
     ]
    },
    {
     "name": "stderr",
     "output_type": "stream",
     "text": [
      "Processing files: 100%|██████████| 650/650 [12:10<00:00,  1.12s/it]"
     ]
    },
    {
     "name": "stdout",
     "output_type": "stream",
     "text": [
      "\n",
      "'./minhwa_dataset/jpg/metadata_withcategory.jsonl' 생성이 완료되었습니다.\n",
      "이제 카테고리 정보가 포함된 프롬프트로 모델 학습을 진행할 수 있습니다.\n"
     ]
    },
    {
     "name": "stderr",
     "output_type": "stream",
     "text": [
      "\n"
     ]
    }
   ],
   "source": [
    "import os\n",
    "import json\n",
    "from deep_translator import GoogleTranslator\n",
    "from tqdm import tqdm\n",
    "\n",
    "# --- 설정 ---\n",
    "json_dir = './minhwa_dataset/json/'\n",
    "img_dir = './minhwa_dataset/jpg/'\n",
    "output_file = os.path.join(img_dir, 'metadata_withcategory.jsonl')\n",
    "# --- 설정 끝 ---\n",
    "\n",
    "# --- 카테고리/서브카테고리 매핑 (1단계에서 정의) ---\n",
    "# CATEGORY_MAP = {\n",
    "#     1: \"화조도\", 2: \"초충도\", 3: \"소과도\", 4: \"모란도\", 5: \"십장생도\",\n",
    "#     6: \"책가도\", 7: \"문자도\", 8: \"어해도\", 9: \"호도\", 10: \"용도\",\n",
    "#     11: \"영수도\", 12: \"인물도\", 13: \"산수도\"\n",
    "# }\n",
    "CATEGORY_MAP = {\n",
    "    1: \"Hwajodo\",\n",
    "    2: \"Chochungdo\",\n",
    "    3: \"Sogwado\",\n",
    "    4: \"Morando\",\n",
    "    5: \"Sipjangsaengdo\",\n",
    "    6: \"Chaekgado\",\n",
    "    7: \"Munjado\",\n",
    "    8: \"Eohaedo\",\n",
    "    9: \"Hodo\",\n",
    "    10: \"Yongdo\",\n",
    "    11: \"Yeongsudo\",\n",
    "    12: \"Inmuldo\",\n",
    "    13: \"Sansudo\"\n",
    "}\n",
    "\n",
    "# SUBCATEGORY_MAP = {\n",
    "#     1: \"꽃\", 2: \"새\", 3: \"풀\", 4: \"곤충\", 5: \"채소\",\n",
    "#     6: \"과일\", 7: \"모란\", 8: \"십장생\", 9: \"문방사우\", 10: \"책거리\",\n",
    "#     11: \"부귀 문자\", 12: \"효제 문자\", 13: \"어류\", 14: \"갑각류 외\", 15: \"호랑이\",\n",
    "#     16: \"용\", 17: \"상상동물\", 18: \"동자도\", 19: \"신선도\", 20: \"풍속도\",\n",
    "#     21: \"산\", 22: \"석\", 23: \"수지\", 24: \"산수,풍경\"\n",
    "# }\n",
    "SUBCATEGORY_MAP = {\n",
    "    1: \"Flowers\",\n",
    "    2: \"Birds\",\n",
    "    3: \"Grass / Plants\",\n",
    "    4: \"Insects\",\n",
    "    5: \"Vegetables\",\n",
    "    6: \"Fruits\",\n",
    "    7: \"Peony\",\n",
    "    8: \"The Ten Symbols of Longevity\",\n",
    "    9: \"The Four Friends of the Study\",\n",
    "    10: \"Chaekgeori (Books and Things)\",\n",
    "    11: \"Characters of Wealth and Nobility\",\n",
    "    12: \"Characters of Filial Piety\",\n",
    "    13: \"Fish\",\n",
    "    14: \"Crustaceans and others\",\n",
    "    15: \"Tiger\",\n",
    "    16: \"Dragon\",\n",
    "    17: \"Mythical Creatures\",\n",
    "    18: \"Paintings of Boys / Children\",\n",
    "    19: \"Paintings of Taoist Immortals\",\n",
    "    20: \"Genre Paintings\",\n",
    "    21: \"Mountain\",\n",
    "    22: \"Rock / Stone\",\n",
    "    23: \"Waterside / Trees\",\n",
    "    24: \"Landscape\"\n",
    "}\n",
    "# --- 매핑 끝 ---\n",
    "\n",
    "translator = GoogleTranslator(source='ko', target='en')\n",
    "json_files = [f for f in os.listdir(json_dir) if f.endswith('.json')]\n",
    "\n",
    "print(f\"총 {len(json_files)}개의 json 파일에 대한 번역 및 전처리를 시작합니다.\")\n",
    "\n",
    "with open(output_file, 'w', encoding='utf-8') as outfile:\n",
    "    for json_filename in tqdm(json_files, desc=\"Processing files\"):\n",
    "        json_path = os.path.join(json_dir, json_filename)\n",
    "        \n",
    "        try:\n",
    "            with open(json_path, 'r', encoding='utf-8') as infile:\n",
    "                data = json.load(infile)\n",
    "                \n",
    "                image_info = data['images']\n",
    "                image_filename = image_info['identifier']\n",
    "\n",
    "                # --- [핵심 수정 부분] ---\n",
    "                # 실제 이미지 파일의 전체 경로 생성\n",
    "                image_filepath = os.path.join(img_dir, image_filename)\n",
    "                \n",
    "                # 파일이 실제로 존재하는 경우에만 메타데이터를 생성\n",
    "                if not os.path.exists(image_filepath):\n",
    "                    print(f\"\\n경고: 이미지 파일을 찾을 수 없습니다. 건너뜁니다: {image_filename}\")\n",
    "                    continue # 다음 파일로 넘어감\n",
    "                # --- [수정 끝] ---\n",
    "\n",
    "\n",
    "                korean_caption = image_info['caption_kr']\n",
    "                \n",
    "                # --- [수정된 부분 시작] ---\n",
    "                \n",
    "                # 1. 카테고리/서브카테고리 번호 가져오기\n",
    "                category_num = image_info.get('category')\n",
    "                subcategory_num = image_info.get('subcategory')\n",
    "                \n",
    "                # 2. 번호를 텍스트로 변환 (딕셔너리 사용)\n",
    "                # .get()을 사용하여 키가 없는 경우에도 오류가 나지 않도록 처리\n",
    "                category_kr = CATEGORY_MAP.get(int(category_num), \"\")\n",
    "                subcategory_kr = SUBCATEGORY_MAP.get(int(subcategory_num), \"\")\n",
    "\n",
    "                # 3. 캡션, 카테고리, 서브카테고리 모두 번역\n",
    "                # 하나의 리스트로 묶어 한 번에 번역 요청하면 더 효율적입니다.\n",
    "                texts_to_translate = [korean_caption, category_kr, subcategory_kr]\n",
    "                translations = translator.translate_batch(texts_to_translate)\n",
    "                english_caption, category_en, subcategory_en = translations\n",
    "\n",
    "                # 4. 최종 영어 프롬프트 구성 (스타일 + 카테고리 + 서브카테고리 + 내용)\n",
    "                # 프롬프트는 쉼표로 구분하는 것이 일반적이고 효과적입니다.\n",
    "                prompt_parts = [\"a minhwa painting\"]\n",
    "                if category_en:\n",
    "                    prompt_parts.append(category_en) # 예: \"landscape painting\"\n",
    "                if subcategory_en:\n",
    "                    prompt_parts.append(subcategory_en) # 예: \"mountain\"\n",
    "                if english_caption:\n",
    "                    prompt_parts.append(english_caption) # 예: \"Mountains of blue and gray overlap to fill the screen.\"\n",
    "                \n",
    "                prompt = \", \".join(prompt_parts)\n",
    "                \n",
    "                # --- [수정된 부분 끝] ---\n",
    "\n",
    "                entry = {\n",
    "                    \"file_name\": image_filename,\n",
    "                    \"text\": prompt\n",
    "                }\n",
    "                \n",
    "                outfile.write(json.dumps(entry, ensure_ascii=False) + '\\n')\n",
    "\n",
    "        except Exception as e:\n",
    "            print(f\"\\n파일 처리 중 오류 발생: {json_filename}, 오류: {e}\")\n",
    "            continue\n",
    "\n",
    "print(f\"\\n'{output_file}' 생성이 완료되었습니다.\")\n",
    "print(\"이제 카테고리 정보가 포함된 프롬프트로 모델 학습을 진행할 수 있습니다.\")"
   ]
  },
  {
   "cell_type": "code",
   "execution_count": null,
   "metadata": {},
   "outputs": [],
   "source": [
    "!accelerate launch train_text_to_image_lora.py \\\n",
    "    --pretrained_model_name_or_path=\"runwayml/stable-diffusion-v1-5\" \\\n",
    "    --dataset_name=\"./minhwa_dataset/jpg/\" \\\n",
    "    --resolution=512 \\\n",
    "    --center_crop \\\n",
    "    --random_flip \\\n",
    "    --train_batch_size=1 \\\n",
    "    --gradient_accumulation_steps=4 \\\n",
    "    --num_train_epochs=15 \\\n",
    "    --learning_rate=1e-04 \\\n",
    "    --lr_scheduler=\"cosine\" \\\n",
    "    --lr_warmup_steps=0 \\\n",
    "    --output_dir=\"minhwa_lora_model_withcategory_r32\" \\\n",
    "    --rank=32 \\\n",
    "    --mixed_precision=\"no\" \\\n",
    "    --checkpointing_steps=162 "
   ]
  },
  {
   "cell_type": "markdown",
   "id": "8826a31a",
   "metadata": {},
   "source": [
    "--checkpointing_steps=162  : 648/4 (1 epoch!)"
   ]
  },
  {
   "cell_type": "code",
   "execution_count": null,
   "id": "a6a2854f",
   "metadata": {},
   "outputs": [],
   "source": [
    "!accelerate launch train_text_to_image_lora.py \\\n",
    "    --pretrained_model_name_or_path=\"runwayml/stable-diffusion-v1-5\" \\\n",
    "    --dataset_name=\"./minhwa_dataset/jpg/\" \\\n",
    "    --resolution=512 \\\n",
    "    --center_crop \\\n",
    "    --random_flip \\\n",
    "    --train_batch_size=1 \\\n",
    "    --gradient_accumulation_steps=4 \\\n",
    "    --num_train_epochs=20 \\\n",
    "    --learning_rate=5e-05 \\\n",
    "    --lr_scheduler=\"cosine\" \\\n",
    "    --lr_warmup_steps=0 \\\n",
    "    --output_dir=\"minhwa_lora_model_withcategory_r64\" \\\n",
    "    --rank=64 \\\n",
    "    --mixed_precision=\"no\" \\\n",
    "    --checkpointing_steps=162 "
   ]
  },
  {
   "cell_type": "markdown",
   "id": "9db88d91",
   "metadata": {},
   "source": [
    "### text inversion with several keywords"
   ]
  },
  {
   "cell_type": "markdown",
   "id": "5163a241",
   "metadata": {},
   "source": [
    "- num_vectors : 4~16 "
   ]
  },
  {
   "cell_type": "code",
   "execution_count": null,
   "id": "c56f6642",
   "metadata": {},
   "outputs": [],
   "source": [
    "!accelerate launch textual_inversion.py \\\n",
    "  --num_vectors=16 \\\n",
    "  --pretrained_model_name_or_path=\"stable-diffusion-v1-5/stable-diffusion-v1-5\" \\\n",
    "  --train_data_dir=\"./minhwa_dataset/jpg/\" \\\n",
    "  --learnable_property=\"style\" \\\n",
    "  --placeholder_token=\"<minhwa-style>\" \\\n",
    "  --initializer_token=\"painting\" \\\n",
    "  --resolution=512 \\\n",
    "  --train_batch_size=1 \\\n",
    "  --gradient_accumulation_steps=4 \\\n",
    "  --max_train_steps=3000 \\\n",
    "  --learning_rate=5.0e-04 \\\n",
    "  --scale_lr \\\n",
    "  --lr_scheduler=\"cosine\" \\\n",
    "  --lr_warmup_steps=100 \\\n",
    "  --output_dir=\"minhwa_textual_inversion_several/minhwa_style/\""
   ]
  },
  {
   "cell_type": "code",
   "execution_count": null,
   "id": "2d938f3c",
   "metadata": {},
   "outputs": [],
   "source": [
    "!accelerate launch textual_inversion.py \\\n",
    "  --num_vectors=16 \\\n",
    "  --pretrained_model_name_or_path=\"stable-diffusion-v1-5/stable-diffusion-v1-5\" \\\n",
    "  --train_data_dir=\"./minhwa_dataset/jpg_catagory/tiger/\" \\\n",
    "  --learnable_property=\"object\" \\\n",
    "  --placeholder_token=\"<minhwa-tiger>\" \\\n",
    "  --initializer_token=\"painting\" \\\n",
    "  --resolution=512 \\\n",
    "  --train_batch_size=1 \\\n",
    "  --gradient_accumulation_steps=4 \\\n",
    "  --max_train_steps=3000 \\\n",
    "  --learning_rate=5.0e-04 \\\n",
    "  --scale_lr \\\n",
    "  --lr_scheduler=\"cosine\" \\\n",
    "  --lr_warmup_steps=100 \\\n",
    "  --output_dir=\"minhwa_textual_inversion_several/minhwa_tiger/\""
   ]
  },
  {
   "cell_type": "code",
   "execution_count": null,
   "id": "fcda7a88",
   "metadata": {},
   "outputs": [],
   "source": [
    "!accelerate launch textual_inversion.py \\\n",
    "  --num_vectors=16 \\\n",
    "  --pretrained_model_name_or_path=\"stable-diffusion-v1-5/stable-diffusion-v1-5\" \\\n",
    "  --train_data_dir=\"./minhwa_dataset/jpg_catagory/landscape/\" \\\n",
    "  --learnable_property=\"object\" \\\n",
    "  --placeholder_token=\"<minhwa-landscape>\" \\\n",
    "  --initializer_token=\"painting\" \\\n",
    "  --resolution=512 \\\n",
    "  --train_batch_size=1 \\\n",
    "  --gradient_accumulation_steps=4 \\\n",
    "  --max_train_steps=3000 \\\n",
    "  --learning_rate=5.0e-04 \\\n",
    "  --scale_lr \\\n",
    "  --lr_scheduler=\"cosine\" \\\n",
    "  --lr_warmup_steps=100 \\\n",
    "  --output_dir=\"minhwa_textual_inversion_several/minhwa_landscape/\""
   ]
  },
  {
   "cell_type": "markdown",
   "id": "26c0a30e",
   "metadata": {},
   "source": []
  }
 ],
 "metadata": {
  "kernelspec": {
   "display_name": "venv (3.10.18)",
   "language": "python",
   "name": "python3"
  },
  "language_info": {
   "codemirror_mode": {
    "name": "ipython",
    "version": 3
   },
   "file_extension": ".py",
   "mimetype": "text/x-python",
   "name": "python",
   "nbconvert_exporter": "python",
   "pygments_lexer": "ipython3",
   "version": "3.10.18"
  }
 },
 "nbformat": 4,
 "nbformat_minor": 5
}
