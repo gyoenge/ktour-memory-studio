{
 "cells": [
  {
   "cell_type": "code",
   "execution_count": null,
   "id": "91d608b9",
   "metadata": {},
   "outputs": [],
   "source": [
    "from diffusers import StableDiffusionXLPipeline\n",
    "import torch\n",
    "\n",
    "base_model_id = \"stabilityai/stable-diffusion-xl-base-1.0\"\n",
    "pipe = StableDiffusionXLPipeline.from_pretrained(\n",
    "    base_model_id,\n",
    "    torch_dtype=torch.float16,\n",
    "    variant=\"fp16\",\n",
    "    use_safetensors=True\n",
    ").to(\"cuda\")\n",
    "\n",
    "lora_model_path = \"./sdxl-lora-minhwa-style\" # set your LoRA model path\n",
    "pipe.load_lora_weights(lora_model_path)\n",
    "\n",
    "prompt = (\n",
    "    \"orean traditional minhwa painting, \"\n",
    "    \"two person, \"\n",
    "    \"a men wearing Korean hat, gat, blue clothes, \"\n",
    "    \"a men wearing blue clothes, \"\n",
    "    \"with a background of green mountain landscape.\"\n",
    ") # set your prompt\n",
    "image = pipe(prompt=prompt, num_inference_steps=30).images[0]\n",
    "\n",
    "image.save(\"minhwa_test.png\")"
   ]
  }
 ],
 "metadata": {
  "kernelspec": {
   "display_name": "venv (3.10.18)",
   "language": "python",
   "name": "python3"
  },
  "language_info": {
   "name": "python",
   "version": "3.10.18"
  }
 },
 "nbformat": 4,
 "nbformat_minor": 5
}
